{
 "cells": [
  {
   "cell_type": "code",
   "execution_count": null,
   "metadata": {
    "collapsed": true
   },
   "outputs": [],
   "source": [
    "import numpy as np\n",
    "rand_matrix = np.random.randn(4,4)\n",
    "rand_matrix\n",
    "eig,_ = np.linalg.eig(rand_matrix)"
   ]
  },
  {
   "cell_type": "code",
   "execution_count": 10,
   "metadata": {},
   "outputs": [
    {
     "data": {
      "text/plain": [
       "array([[ 1.34974657, -0.86074209, -0.82696852, -0.52129217],\n       [ 1.61034993,  1.28649412, -0.37937537, -0.46502091],\n       [ 1.15420626, -0.14489514, -0.21557423, -0.44293793],\n       [ 0.45784596,  0.78548138,  1.16470277,  0.39705886]])"
      ]
     },
     "execution_count": 10,
     "metadata": {},
     "output_type": "execute_result"
    }
   ],
   "source": [
    "rand_matrix"
   ]
  },
  {
   "cell_type": "code",
   "execution_count": 11,
   "metadata": {},
   "outputs": [
    {
     "data": {
      "text/plain": [
       "array([0.95120906+1.64482556j, 0.95120906-1.64482556j,\n       0.29558974+0.j        , 0.61971747+0.j        ])"
      ]
     },
     "execution_count": 11,
     "metadata": {},
     "output_type": "execute_result"
    }
   ],
   "source": [
    "eig"
   ]
  },
  {
   "cell_type": "markdown",
   "metadata": {},
   "source": [
    "一个随机矩阵的 特征值是复数的\n",
    "但是一个实对称矩阵 可以分解为实特镇向量和实特征值   "
   ]
  },
  {
   "cell_type": "code",
   "execution_count": null,
   "metadata": {},
   "outputs": [],
   "source": [
    "rand_matrix = np.triu(rand_matrix)\n",
    "rand_matrix += rand_matrix.T - np.diag(rand_matrix.diagonal())\n",
    "symmetric_matrix = rand_matrix\n",
    "eig,_ = np.linalg.eig(symmetric_matrix)"
   ]
  },
  {
   "cell_type": "code",
   "execution_count": 20,
   "metadata": {
    "collapsed": true
   },
   "outputs": [
    {
     "data": {
      "text/plain": [
       "array([-1.18875768,  2.23411832,  1.21150543,  0.56085926])"
      ]
     },
     "execution_count": 20,
     "metadata": {},
     "output_type": "execute_result"
    }
   ],
   "source": [
    "eig"
   ]
  },
  {
   "cell_type": "markdown",
   "metadata": {},
   "source": [
    "正定矩阵 一定是对称矩阵 但是对成矩阵不一定是正定的， 判断对称矩阵是否正定：\n",
    "- 所有特征值为正\n",
    "- 所有顺序主子式为正\n",
    "- 主元为正 则矩阵正定"
   ]
  },
  {
   "cell_type": "markdown",
   "metadata": {},
   "source": [
    "AX = b 有不同的迭代解法   \n",
    "共轭梯度的求解   \n",
    "https://en.wikipedia.org/wiki/Conjugate_gradient_method\n"
   ]
  },
  {
   "cell_type": "code",
   "execution_count": null,
   "metadata": {},
   "outputs": [],
   "source": [
    "rand_matrix = np.random.randn(5,5)\n",
    "rand_matrix = np.triu(rand_matrix)\n",
    "rand_matrix += rand_matrix.T - np.diag(rand_matrix.diagonal())\n",
    "symmetric_matrix = rand_matrix\n",
    "A = symmetric_matrix\n",
    "b = np.random.randn(5)"
   ]
  },
  {
   "cell_type": "code",
   "execution_count": 40,
   "metadata": {},
   "outputs": [],
   "source": [
    "from scipy.sparse import linalg as s_linalg"
   ]
  },
  {
   "cell_type": "code",
   "execution_count": 41,
   "metadata": {},
   "outputs": [],
   "source": [
    "f,inf = s_linalg.minres(A,b)"
   ]
  },
  {
   "cell_type": "code",
   "execution_count": 44,
   "metadata": {},
   "outputs": [],
   "source": [
    ""
   ]
  },
  {
   "cell_type": "code",
   "execution_count": null,
   "metadata": {},
   "outputs": [],
   "source": []
  }
 ],
 "metadata": {
  "kernelspec": {
   "display_name": "Python 2",
   "language": "python",
   "name": "python2"
  },
  "language_info": {
   "codemirror_mode": {
    "name": "ipython",
    "version": 2
   },
   "file_extension": ".py",
   "mimetype": "text/x-python",
   "name": "python",
   "nbconvert_exporter": "python",
   "pygments_lexer": "ipython2",
   "version": "2.7.6"
  }
 },
 "nbformat": 4,
 "nbformat_minor": 0
}
