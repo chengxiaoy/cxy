{
 "cells": [
  {
   "cell_type": "code",
   "execution_count": 1,
   "metadata": {
    "collapsed": true
   },
   "outputs": [],
   "source": [
    "import numpy as np"
   ]
  },
  {
   "cell_type": "code",
   "execution_count": 2,
   "metadata": {},
   "outputs": [],
   "source": [
    "import matplotlib.pyplot as plt"
   ]
  },
  {
   "cell_type": "code",
   "execution_count": 3,
   "metadata": {},
   "outputs": [],
   "source": [
    "from sklearn.datasets.samples_generator import make_blobs\n",
    "from sklearn import cluster\n",
    "from sklearn.metrics import adjusted_rand_score\n",
    "from sklearn import mixture"
   ]
  },
  {
   "cell_type": "code",
   "execution_count": 4,
   "metadata": {},
   "outputs": [],
   "source": [
    "def create_data(centers, num=100, std=0.7):\n",
    "    X, labels_true = make_blobs(n_samples=num, centers=centers, cluster_std=std)\n",
    "    return X, labels_true\n"
   ]
  },
  {
   "cell_type": "code",
   "execution_count": 8,
   "metadata": {},
   "outputs": [],
   "source": [
    "def plot_data(*data):\n",
    "    X,labels_true = data\n",
    "    labels = np.unique(labels_true)\n",
    "    fig = plt.figure()\n",
    "    ax = fig.add_subplot(1,1,1)\n",
    "    colors = 'rgbyckm'\n",
    "    for i,label in enumerate(labels):\n",
    "        position = labels_true == label\n",
    "        ax.scatter(X[position,0],X[position,1],label='cluster %d'%label,color = colors[i%len(colors)])\n",
    "    ax.legend(loc = \"best\",framealpha=0.5)\n",
    "    ax.set_xlabel(\"X[0]\")\n",
    "    ax.set_xlabel(\"Y[1]\")\n",
    "    ax.set_title('data')\n",
    "    plt.show()\n",
    "    \n",
    "        "
   ]
  },
  {
   "cell_type": "code",
   "execution_count": 6,
   "metadata": {},
   "outputs": [],
   "source": [
    "X,labels_true = create_data([[1,1],[2,2],[1,2],[10,20]],1000,0.5)"
   ]
  },
  {
   "cell_type": "code",
   "execution_count": 9,
   "metadata": {},
   "outputs": [
    {
     "data": {
      "image/png": "[encoded data removed]",
      "text/plain": [
       "<Figure size 432x288 with 1 Axes>"
      ]
     },
     "metadata": {},
     "output_type": "display_data"
    }
   ],
   "source": [
    "plot_data(X,labels_true)"
   ]
  },
  {
   "cell_type": "code",
   "execution_count": 10,
   "metadata": {},
   "outputs": [],
   "source": [
    "def test_GMM(*data):\n",
    "    X, labels_true = data\n",
    "    clst = mixture.GaussianMixture()\n",
    "    predicted_labels = clst.fit_predict(X)\n",
    "    print(\"ARI:%s\" % adjusted_rand_score(labels_true, predicted_labels))\n"
   ]
  },
  {
   "cell_type": "code",
   "execution_count": 11,
   "metadata": {},
   "outputs": [
    {
     "name": "stdout",
     "output_type": "stream",
     "text": [
      "ARI:0.0\n"
     ]
    }
   ],
   "source": [
    "test_GMM(X,labels_true)"
   ]
  },
  {
   "cell_type": "code",
   "execution_count": null,
   "metadata": {},
   "outputs": [],
   "source": []
  }
 ],
 "metadata": {
  "kernelspec": {
   "display_name": "Python 2",
   "language": "python",
   "name": "python2"
  },
  "language_info": {
   "codemirror_mode": {
    "name": "ipython",
    "version": 2
   },
   "file_extension": ".py",
   "mimetype": "text/x-python",
   "name": "python",
   "nbconvert_exporter": "python",
   "pygments_lexer": "ipython2",
   "version": "2.7.6"
  }
 },
 "nbformat": 4,
 "nbformat_minor": 0
}
